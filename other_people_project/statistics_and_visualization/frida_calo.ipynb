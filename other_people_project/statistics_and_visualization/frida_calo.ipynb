{
 "cells": [
  {
   "cell_type": "markdown",
   "metadata": {},
   "source": [
    "# Frida Kahlo Exhibition\n",
    "\n",
    "You've been hired to work on a retrospective of Frida Kahlo's work at a major museum. My job is to put together the audio tour, but in order to do that I need to create a list of each painting featured in the exhibit, the date it was painted, and its spot in the tour. \n",
    "\n",
    "I should use lists to create a master list of each painting, its date, and its audio tour ID. \n",
    "\n",
    "\n",
    "First, create a list called `paintings` and add the following titles to it:\n",
    "\n",
    "`The Two Fridas, My Dress Hangs Here, Tree of Hope, Self Portrait With Monkeys`\n",
    "\n"
   ]
  },
  {
   "cell_type": "code",
   "execution_count": 10,
   "metadata": {},
   "outputs": [
    {
     "data": {
      "text/plain": [
       "[('The Two Fridas', 1939),\n",
       " ('My Dress Hangs Here', 1933),\n",
       " ('Tree of Hope', 1946),\n",
       " ('Self Portrait With Monkeys', 1940),\n",
       " ('The Broken Column', 1944),\n",
       " ('The Wounded Deer', 1946),\n",
       " ('Me and My Doll', 1937)]"
      ]
     },
     "execution_count": 10,
     "metadata": {},
     "output_type": "execute_result"
    }
   ],
   "source": [
    "paintings = [\n",
    "    ('The Two Fridas', 1939), \n",
    "    ('My Dress Hangs Here', 1933), \n",
    "    ('Tree of Hope', 1946),\n",
    "    ('Self Portrait With Monkeys', 1940),\n",
    "    ('The Broken Column', 1944),\n",
    "    ('The Wounded Deer', 1946),\n",
    "    ('Me and My Doll', 1937),\n",
    "]\n",
    "paintings"
   ]
  },
  {
   "cell_type": "markdown",
   "metadata": {},
   "source": [
    "\n",
    "Since each of these paintings is going to be in the audio tour, they each need a unique identification number.\n",
    "But before assigning them a number - check how many paintings there are in total.\n",
    "\n",
    "To do it I need to find the length of the `paintings` list:"
   ]
  },
  {
   "cell_type": "code",
   "execution_count": 11,
   "metadata": {},
   "outputs": [
    {
     "data": {
      "text/plain": [
       "7"
      ]
     },
     "execution_count": 11,
     "metadata": {},
     "output_type": "execute_result"
    }
   ],
   "source": [
    "len(paintings)"
   ]
  },
  {
   "cell_type": "markdown",
   "metadata": {},
   "source": [
    "\n",
    "After that I will generate a list of identification numbers ( `audio_tour_number`) that starts at 1 and is equal in length to the list of items above."
   ]
  },
  {
   "cell_type": "code",
   "execution_count": 3,
   "metadata": {},
   "outputs": [
    {
     "name": "stdout",
     "output_type": "stream",
     "text": [
      "[1, 2, 3, 4, 5, 6, 7]\n"
     ]
    }
   ],
   "source": [
    "audio_tour_number = list(range(1, len(paintings) + 1))\n",
    "print(audio_tour_number)\n",
    "                    "
   ]
  },
  {
   "cell_type": "markdown",
   "metadata": {},
   "source": [
    "Finally I create the master list. "
   ]
  },
  {
   "cell_type": "code",
   "execution_count": 4,
   "metadata": {},
   "outputs": [],
   "source": [
    "master_list = list(zip(audio_tour_number, paintings))"
   ]
  },
  {
   "cell_type": "markdown",
   "metadata": {},
   "source": [
    "And output the `master_list` to the terminal for further usage within a guide."
   ]
  },
  {
   "cell_type": "code",
   "execution_count": 9,
   "metadata": {},
   "outputs": [
    {
     "data": {
      "text/plain": [
       "[(1, ('The Two Fridas', 1939)),\n",
       " (2, ('My Dress Hangs Here', 1933)),\n",
       " (3, ('Tree of Hope', 1946)),\n",
       " (4, ('Self Portrait With Monkeys', 1940)),\n",
       " (5, ('The Broken Column', 1944)),\n",
       " (6, ('The Wounded Deer', 1946)),\n",
       " (7, ('Me and My Doll', 1937))]"
      ]
     },
     "execution_count": 9,
     "metadata": {},
     "output_type": "execute_result"
    }
   ],
   "source": [
    "master_list"
   ]
  }
 ],
 "metadata": {
  "kernelspec": {
   "display_name": "Python 3.10.7 64-bit (microsoft store)",
   "language": "python",
   "name": "python3"
  },
  "language_info": {
   "codemirror_mode": {
    "name": "ipython",
    "version": 3
   },
   "file_extension": ".py",
   "mimetype": "text/x-python",
   "name": "python",
   "nbconvert_exporter": "python",
   "pygments_lexer": "ipython3",
   "version": "3.10.7"
  },
  "vscode": {
   "interpreter": {
    "hash": "a166e61b3f1e7b9ccc9f59f78d7cc3087a9ccbb0b1a7cff444b301613a633a54"
   }
  }
 },
 "nbformat": 4,
 "nbformat_minor": 2
}
