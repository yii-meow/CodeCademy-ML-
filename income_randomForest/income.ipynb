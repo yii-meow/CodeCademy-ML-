{
 "cells": [
  {
   "cell_type": "code",
   "execution_count": 1,
   "metadata": {},
   "outputs": [
    {
     "name": "stdout",
     "output_type": "stream",
     "text": [
      "age                          39\n",
      "workclass             State-gov\n",
      "fnlwgt                    77516\n",
      "education             Bachelors\n",
      "education-num                13\n",
      "marital-status    Never-married\n",
      "occupation         Adm-clerical\n",
      "relationship      Not-in-family\n",
      "race                      White\n",
      "sex                        Male\n",
      "capital-gain               2174\n",
      "capital-loss                  0\n",
      "hours-per-week               40\n",
      "native-country    United-States\n",
      "income                    <=50K\n",
      "Name: 0, dtype: object\n",
      "[0.45313322 0.13858376 0.30520188 0.08946642 0.01361472]\n",
      "0.7822134872865741\n"
     ]
    }
   ],
   "source": [
    "def warn(*args, **kwargs):\n",
    "    pass\n",
    "import warnings\n",
    "warnings.warn = warn\n",
    "\n",
    "import pandas as pd\n",
    "from sklearn.model_selection import train_test_split\n",
    "from sklearn import tree\n",
    "from sklearn.ensemble import RandomForestClassifier\n",
    "\n",
    "income_data = pd.read_csv(\"income.csv\",header=0,delimiter=\", \")\n",
    "\n",
    "print(income_data.iloc[0])\n",
    "\n",
    "labels = income_data[[\"income\"]]\n",
    "\n",
    "#income_data[\"sex-int\"] = income_data[\"sex\"].apply(lambda row: 0 if row == \"Male\" else 1)\n",
    "\n",
    "income_data[\"sex-int\"] = income_data[\"sex\"].map({\n",
    "  \"Male\" : 0,\n",
    "  \"Female\" : 1\n",
    "})\n",
    "\n",
    "income_data[\"country-int\"] = income_data[\"native-country\"].apply(lambda row: 0 if row == \"United-States\" else 1)\n",
    "\n",
    "data = income_data[[\"age\",\"capital-loss\",\"hours-per-week\",\"sex-int\",\"country-int\"]]\n",
    "\n",
    "train_data, test_data, train_labels, test_labels = train_test_split(data,labels,random_state=1)\n",
    "\n",
    "forest = RandomForestClassifier(random_state=1)\n",
    "\n",
    "forest.fit(train_data, train_labels)\n",
    "\n",
    "print(forest.feature_importances_)\n",
    "\n",
    "print(forest.score(test_data,test_labels))\n"
   ]
  }
 ],
 "metadata": {
  "kernelspec": {
   "display_name": "base",
   "language": "python",
   "name": "python3"
  },
  "language_info": {
   "codemirror_mode": {
    "name": "ipython",
    "version": 3
   },
   "file_extension": ".py",
   "mimetype": "text/x-python",
   "name": "python",
   "nbconvert_exporter": "python",
   "pygments_lexer": "ipython3",
   "version": "3.9.12"
  },
  "orig_nbformat": 4
 },
 "nbformat": 4,
 "nbformat_minor": 2
}
