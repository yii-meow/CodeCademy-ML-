{
 "cells": [
  {
   "cell_type": "code",
   "execution_count": 1,
   "metadata": {},
   "outputs": [
    {
     "name": "stdout",
     "output_type": "stream",
     "text": [
      "[[ 0.  0.  5. ...  0.  0.  0.]\n",
      " [ 0.  0.  0. ... 10.  0.  0.]\n",
      " [ 0.  0.  0. ... 16.  9.  0.]\n",
      " ...\n",
      " [ 0.  0.  1. ...  6.  0.  0.]\n",
      " [ 0.  0.  2. ... 12.  0.  0.]\n",
      " [ 0.  0. 10. ... 12.  1.  0.]]\n",
      "[0 1 2 ... 8 9 8]\n"
     ]
    },
    {
     "data": {
      "image/png": "[encoded data removed]",
      "text/plain": [
       "<Figure size 600x600 with 5 Axes>"
      ]
     },
     "metadata": {},
     "output_type": "display_data"
    },
    {
     "data": {
      "image/png": "[encoded data removed]",
      "text/plain": [
       "<Figure size 800x300 with 10 Axes>"
      ]
     },
     "metadata": {},
     "output_type": "display_data"
    },
    {
     "name": "stdout",
     "output_type": "stream",
     "text": [
      "2479"
     ]
    }
   ],
   "source": [
    "import numpy as np\n",
    "from matplotlib import pyplot as plt\n",
    "from sklearn import datasets\n",
    "from sklearn.cluster import KMeans\n",
    "\n",
    "digits = datasets.load_digits()\n",
    "print(digits.data)\n",
    "print(digits.target)\n",
    "\n",
    "# Figure size (width, height)\n",
    " \n",
    "fig = plt.figure(figsize=(6, 6))\n",
    " \n",
    "# Adjust the subplots \n",
    " \n",
    "fig.subplots_adjust(left=0, right=1, bottom=0, top=1, hspace=0.05, wspace=0.05)\n",
    " \n",
    "# For each of the 64 images\n",
    " \n",
    "for i in range(5):\n",
    " \n",
    "    # Initialize the subplots: add a subplot in the grid of 8 by 8, at the i+1-th position\n",
    " \n",
    "    ax = fig.add_subplot(8, 8, i+1, xticks=[], yticks=[])\n",
    " \n",
    "    # Display an image at the i-th position\n",
    " \n",
    "    ax.imshow(digits.images[i], cmap=plt.cm.binary, interpolation='nearest')\n",
    " \n",
    "    # Label the image with the target value\n",
    " \n",
    "    ax.text(0, 7, str(digits.target[i]))\n",
    " \n",
    "plt.show()\n",
    "\n",
    "model = KMeans(n_clusters=10,random_state=42)\n",
    "\n",
    "model.fit(digits.data)\n",
    "\n",
    "fig = plt.figure(figsize=(8,3))\n",
    "fig.suptitle(\"Handwritten picture\")\n",
    "\n",
    "for i in range(10):\n",
    "  ax = fig.add_subplot(2,5,1+i)\n",
    "  ax.imshow(model.cluster_centers_[i].reshape((8,8)),cmap = plt.cm.binary)\n",
    "\n",
    "plt.show()\n",
    "\n",
    "new_samples = np.array([\n",
    "[0.00,0.00,0.00,0.00,0.00,0.00,0.00,0.00,0.00,2.75,4.57,4.19,1.53,0.00,0.00,0.00,0.00,3.81,6.10,7.24,7.40,1.60,0.00,0.00,0.00,0.00,0.00,0.46,7.40,3.73,0.00,0.00,0.00,0.00,0.00,0.00,6.94,3.81,0.00,0.00,0.00,0.00,0.00,3.66,7.62,3.05,0.00,0.00,0.00,0.00,4.58,7.62,7.62,6.94,2.67,0.00,0.00,0.00,2.21,3.81,3.81,4.35,1.83,0.00],\n",
    "[0.00,0.00,0.00,0.00,0.00,0.00,0.00,0.00,0.00,0.00,1.07,2.29,1.68,0.15,0.00,0.00,0.00,0.46,7.40,7.62,7.62,7.02,2.14,0.00,0.00,3.05,7.62,1.60,2.52,6.56,5.95,0.00,0.00,3.05,7.62,0.00,0.15,5.95,6.02,0.00,0.00,2.90,7.62,5.42,5.87,7.62,3.28,0.00,0.00,0.23,4.12,6.33,6.71,2.75,0.00,0.00,0.00,0.00,0.00,0.00,0.00,0.00,0.00,0.00],\n",
    "[0.00,0.00,0.00,0.00,0.00,0.00,0.00,0.00,0.00,2.29,4.95,5.34,4.12,0.23,0.00,0.00,0.00,3.20,6.10,5.72,7.63,4.12,0.00,0.00,0.00,0.00,0.00,0.61,6.94,4.57,0.00,0.00,0.00,0.00,1.30,6.64,7.40,1.68,0.00,0.00,0.00,0.46,7.17,7.62,7.62,7.40,0.53,0.00,0.00,0.15,3.59,3.13,3.05,2.82,0.08,0.00,0.00,0.00,0.00,0.00,0.00,0.00,0.00,0.00],\n",
    "[0.00,0.00,0.00,0.00,0.84,1.30,0.00,0.00,0.00,4.35,6.25,7.09,7.62,7.63,0.61,0.00,0.00,6.86,6.10,4.12,2.82,1.76,0.00,0.00,0.00,6.86,6.86,6.10,6.10,6.02,4.27,0.23,0.00,3.36,4.57,4.57,4.57,5.49,7.62,2.82,0.00,0.00,0.00,0.00,0.23,4.20,7.62,2.59,0.00,0.00,4.88,4.73,6.79,7.62,4.81,0.08,0.00,0.00,5.65,6.86,5.72,2.67,0.00,0.00]\n",
    "])\n",
    "\n",
    "new_labels = model.predict(new_samples)\n",
    "\n",
    "for i in range(len(new_labels)):\n",
    "  if new_labels[i] == 0:\n",
    "    print(0, end='')\n",
    "  elif new_labels[i] == 1:\n",
    "    print(9, end='')\n",
    "  elif new_labels[i] == 2:\n",
    "    print(2, end='')\n",
    "  elif new_labels[i] == 3:\n",
    "    print(1, end='')\n",
    "  elif new_labels[i] == 4:\n",
    "    print(6, end='')\n",
    "  elif new_labels[i] == 5:\n",
    "    print(8, end='')\n",
    "  elif new_labels[i] == 6:\n",
    "    print(4, end='')\n",
    "  elif new_labels[i] == 7:\n",
    "    print(5, end='')\n",
    "  elif new_labels[i] == 8:\n",
    "    print(7, end='')\n",
    "  elif new_labels[i] == 9:\n",
    "    print(3, end='')"
   ]
  },
  {
   "cell_type": "code",
   "execution_count": null,
   "metadata": {},
   "outputs": [],
   "source": []
  }
 ],
 "metadata": {
  "kernelspec": {
   "display_name": "base",
   "language": "python",
   "name": "python3"
  },
  "language_info": {
   "codemirror_mode": {
    "name": "ipython",
    "version": 3
   },
   "file_extension": ".py",
   "mimetype": "text/x-python",
   "name": "python",
   "nbconvert_exporter": "python",
   "pygments_lexer": "ipython3",
   "version": "3.9.13"
  },
  "orig_nbformat": 4
 },
 "nbformat": 4,
 "nbformat_minor": 2
}
