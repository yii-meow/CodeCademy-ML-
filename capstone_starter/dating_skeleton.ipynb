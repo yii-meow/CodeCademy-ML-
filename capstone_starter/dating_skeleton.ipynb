{
 "cells": [
  {
   "attachments": {},
   "cell_type": "markdown",
   "metadata": {},
   "source": [
    "# Dating Prediction"
   ]
  },
  {
   "attachments": {},
   "cell_type": "markdown",
   "metadata": {},
   "source": [
    "## Loading Data"
   ]
  },
  {
   "cell_type": "code",
   "execution_count": 232,
   "metadata": {},
   "outputs": [
    {
     "name": "stdout",
     "output_type": "stream",
     "text": [
      "Index(['age', 'body_type', 'diet', 'drinks', 'drugs', 'education', 'essay0',\n",
      "       'essay1', 'essay2', 'essay3', 'essay4', 'essay5', 'essay6', 'essay7',\n",
      "       'essay8', 'essay9', 'ethnicity', 'height', 'income', 'job',\n",
      "       'last_online', 'location', 'offspring', 'orientation', 'pets',\n",
      "       'religion', 'sex', 'sign', 'smokes', 'speaks', 'status'],\n",
      "      dtype='object')\n",
      "   age       body_type               diet    drinks      drugs  \\\n",
      "0   22  a little extra  strictly anything  socially      never   \n",
      "1   35         average       mostly other     often  sometimes   \n",
      "2   38            thin           anything  socially        NaN   \n",
      "3   23            thin         vegetarian  socially        NaN   \n",
      "4   29        athletic                NaN  socially      never   \n",
      "\n",
      "                           education  \\\n",
      "0      working on college/university   \n",
      "1              working on space camp   \n",
      "2     graduated from masters program   \n",
      "3      working on college/university   \n",
      "4  graduated from college/university   \n",
      "\n",
      "                                              essay0  \\\n",
      "0  about me:<br />\\n<br />\\ni would love to think...   \n",
      "1  i am a chef: this is what that means.<br />\\n1...   \n",
      "2  i'm not ashamed of much, but writing public te...   \n",
      "3          i work in a library and go to school. . .   \n",
      "4  hey how's it going? currently vague on the pro...   \n",
      "\n",
      "                                              essay1  \\\n",
      "0  currently working as an international agent fo...   \n",
      "1  dedicating everyday to being an unbelievable b...   \n",
      "2  i make nerdy software for musicians, artists, ...   \n",
      "3          reading things written by old dead people   \n",
      "4                         work work work work + play   \n",
      "\n",
      "                                              essay2  \\\n",
      "0  making people laugh.<br />\\nranting about a go...   \n",
      "1  being silly. having ridiculous amonts of fun w...   \n",
      "2  improvising in different contexts. alternating...   \n",
      "3  playing synthesizers and organizing books acco...   \n",
      "4  creating imagery to look at:<br />\\nhttp://bag...   \n",
      "\n",
      "                                              essay3  ...  \\\n",
      "0  the way i look. i am a six foot half asian, ha...  ...   \n",
      "1                                                NaN  ...   \n",
      "2  my large jaw and large glasses are the physica...  ...   \n",
      "3                  socially awkward but i do my best  ...   \n",
      "4            i smile a lot and my inquisitive nature  ...   \n",
      "\n",
      "                          location  \\\n",
      "0  south san francisco, california   \n",
      "1              oakland, california   \n",
      "2        san francisco, california   \n",
      "3             berkeley, california   \n",
      "4        san francisco, california   \n",
      "\n",
      "                                      offspring orientation  \\\n",
      "0  doesn&rsquo;t have kids, but might want them    straight   \n",
      "1  doesn&rsquo;t have kids, but might want them    straight   \n",
      "2                                           NaN    straight   \n",
      "3                       doesn&rsquo;t want kids    straight   \n",
      "4                                           NaN    straight   \n",
      "\n",
      "                        pets                                  religion sex  \\\n",
      "0  likes dogs and likes cats     agnosticism and very serious about it   m   \n",
      "1  likes dogs and likes cats  agnosticism but not too serious about it   m   \n",
      "2                   has cats                                       NaN   m   \n",
      "3                 likes cats                                       NaN   m   \n",
      "4  likes dogs and likes cats                                       NaN   m   \n",
      "\n",
      "                                 sign     smokes  \\\n",
      "0                              gemini  sometimes   \n",
      "1                              cancer         no   \n",
      "2  pisces but it doesn&rsquo;t matter         no   \n",
      "3                              pisces         no   \n",
      "4                            aquarius         no   \n",
      "\n",
      "                                              speaks     status  \n",
      "0                                            english     single  \n",
      "1  english (fluently), spanish (poorly), french (...     single  \n",
      "2                               english, french, c++  available  \n",
      "3                           english, german (poorly)     single  \n",
      "4                                            english     single  \n",
      "\n",
      "[5 rows x 31 columns]\n",
      "no                43896\n",
      "sometimes          3787\n",
      "when drinking      3040\n",
      "yes                2231\n",
      "trying to quit     1480\n",
      "Name: smokes, dtype: int64\n",
      "socially       41780\n",
      "rarely          5957\n",
      "often           5164\n",
      "not at all      3267\n",
      "very often       471\n",
      "desperately      322\n",
      "Name: drinks, dtype: int64\n",
      "never        37724\n",
      "sometimes     7732\n",
      "often          410\n",
      "Name: drugs, dtype: int64\n"
     ]
    }
   ],
   "source": [
    "import pandas as pd\n",
    "import numpy as np\n",
    "from matplotlib import pyplot as plt\n",
    "import re\n",
    "\n",
    "from sklearn import preprocessing\n",
    "from sklearn.model_selection import train_test_split\n",
    "from sklearn.neighbors import KNeighborsClassifier\n",
    "from sklearn.linear_model import LinearRegression\n",
    "\n",
    "df = pd.read_csv(\"profiles.csv\")\n",
    "print(df.columns)\n",
    "print(df.head())\n",
    "\n",
    "print(df[\"smokes\"].value_counts())\n",
    "print(df[\"drinks\"].value_counts())\n",
    "print(df[\"drugs\"].value_counts())"
   ]
  },
  {
   "attachments": {},
   "cell_type": "markdown",
   "metadata": {},
   "source": [
    "Mapping value to int"
   ]
  },
  {
   "cell_type": "code",
   "execution_count": 233,
   "metadata": {},
   "outputs": [],
   "source": [
    "# Mapping str values to numerical\n",
    "df[\"drinks\"] = df[\"drinks\"].replace(np.nan,'not at all',regex=True)\n",
    "df[\"drinks_code\"] = df.drinks.map({\n",
    "    \"not at all\" : 0,\n",
    "    \"rarely\" : 1,\n",
    "    \"socially\" : 2,\n",
    "    \"often\" : 3,\n",
    "    \"very often\" : 4,\n",
    "    \"desperately\" : 5\n",
    "})\n",
    "\n",
    "df[\"smokes\"] = df[\"smokes\"].replace(np.nan,'no',regex=True)\n",
    "df[\"smokes_code\"] = df.smokes.map({\n",
    "    \"no\":0,\n",
    "    \"sometimes\":1,\n",
    "    \"when drinking\":2,\n",
    "    \"yes\":3,\n",
    "    \"trying to quit\":4\n",
    "})\n",
    "\n",
    "df[\"drugs\"] = df[\"drugs\"].replace(np.nan,'never',regex=True)\n",
    "df[\"drugs_code\"] = df.drugs.map({\n",
    "    \"never\":0,\n",
    "    \"sometimes\":1,\n",
    "    \"often\":2\n",
    "})"
   ]
  },
  {
   "attachments": {},
   "cell_type": "markdown",
   "metadata": {},
   "source": [
    "Mapping essays columns"
   ]
  },
  {
   "cell_type": "code",
   "execution_count": 234,
   "metadata": {},
   "outputs": [],
   "source": [
    "# Retrieve the essays cols\n",
    "essays_cols = [\"essay0\",\"essay1\",\"essay2\",\"essay3\",\"essay4\",\"essay5\",\n",
    "               \"essay6\",\"essay7\",\"essay8\",\"essay9\"]\n",
    "\n",
    "# Removing the NaNs\n",
    "all_essays = df[essays_cols].replace(np.nan,'',regex=True)\n",
    "\n",
    "# Combining the essays\n",
    "all_essays = all_essays.apply(lambda x:' '.join(x),axis=1)\n",
    "\n",
    "# Total length of the ssays\n",
    "df[\"essay_len\"] = all_essays.apply(lambda x : len(x))\n",
    "\n",
    "# Average length for essays\n",
    "df[\"avg_word_length\"] = df[\"essay_len\"]/len(essays_cols)\n",
    "\n",
    "# Frequency of the words 'I' or 'me\"\n",
    "df[\"common_words\"] = all_essays.str.count(r'\\b(I|me)\\b', flags=re.IGNORECASE)"
   ]
  },
  {
   "attachments": {},
   "cell_type": "markdown",
   "metadata": {},
   "source": [
    "### Normalize Data"
   ]
  },
  {
   "cell_type": "code",
   "execution_count": 235,
   "metadata": {},
   "outputs": [],
   "source": [
    "feature_data = df[[\"smokes_code\",\"drinks_code\",\"drugs_code\",\n",
    "                   \"essay_len\",\"avg_word_length\"]]\n",
    "\n",
    "x = feature_data.values\n",
    "min_max_scaler = preprocessing.MinMaxScaler()\n",
    "x_scaled = min_max_scaler.fit_transform(x)"
   ]
  },
  {
   "attachments": {},
   "cell_type": "markdown",
   "metadata": {},
   "source": [
    "### Predict Zodiac Signs"
   ]
  },
  {
   "cell_type": "code",
   "execution_count": 236,
   "metadata": {},
   "outputs": [],
   "source": [
    "df[\"sign\"] = df[\"sign\"].replace(np.nan,'',regex=True)\n",
    "\n",
    "# Only take the first word, which is the zodiac sign only\n",
    "df[\"sign\"] = (df[\"sign\"].apply(lambda x: x.split(\" \")[0]))\n",
    "\n",
    "X_train, X_test, y_train, y_test = train_test_split(feature_data,df[\"sign\"],test_size=0.2,random_state=100)\n",
    "\n",
    "accuracies = []\n",
    "\n",
    "# for k in range(1,200):\n",
    "#     classifier = KNeighborsClassifier(n_neighbors=k)\n",
    "#     classifier.fit(X_train,y_train)\n",
    "#     accuracies.append(classifier.score(X_test,y_test))\n",
    "\n",
    "# k_list = range(1,200)\n",
    "\n",
    "# plt.plot(k_list,accuracies)\n",
    "# plt.xlabel(\"k\")\n",
    "# plt.ylabel(\"Accuracy\")\n",
    "# plt.show()\n",
    "# fig = plt.figure(figsize=(6,4))\n",
    "# plt.savefig(\"k_accuracy.png\")"
   ]
  },
  {
   "attachments": {},
   "cell_type": "markdown",
   "metadata": {},
   "source": [
    "## Classification Techniques"
   ]
  },
  {
   "attachments": {},
   "cell_type": "markdown",
   "metadata": {},
   "source": [
    "### Predict Sex with education level and income"
   ]
  },
  {
   "cell_type": "code",
   "execution_count": 237,
   "metadata": {},
   "outputs": [],
   "source": [
    "# Male = 0 , Female = 1\n",
    "df[\"sex\"] = df.sex.map({\n",
    "    \"m\" : 0,\n",
    "    \"f\" : 1\n",
    "})"
   ]
  },
  {
   "cell_type": "code",
   "execution_count": 238,
   "metadata": {},
   "outputs": [
    {
     "name": "stdout",
     "output_type": "stream",
     "text": [
      "graduated from college/university    23959\n",
      "graduated from masters program        8961\n",
      "working on college/university         5712\n",
      "working on masters program            1683\n",
      "graduated from two-year college       1531\n",
      "graduated from high school            1428\n",
      "graduated from ph.d program           1272\n",
      "graduated from law school             1122\n",
      "working on two-year college           1074\n",
      "dropped out of college/university      995\n",
      "working on ph.d program                983\n",
      "college/university                     801\n",
      "graduated from space camp              657\n",
      "dropped out of space camp              523\n",
      "graduated from med school              446\n",
      "working on space camp                  445\n",
      "working on law school                  269\n",
      "two-year college                       222\n",
      "working on med school                  212\n",
      "dropped out of two-year college        191\n",
      "dropped out of masters program         140\n",
      "masters program                        136\n",
      "dropped out of ph.d program            127\n",
      "dropped out of high school             102\n",
      "high school                             96\n",
      "working on high school                  87\n",
      "space camp                              58\n",
      "ph.d program                            26\n",
      "law school                              19\n",
      "dropped out of law school               18\n",
      "dropped out of med school               12\n",
      "med school                              11\n",
      "Name: education, dtype: int64\n",
      "0    35829\n",
      "1    24117\n",
      "Name: sex, dtype: int64\n"
     ]
    }
   ],
   "source": [
    "print(df[\"education\"].value_counts())\n",
    "print(df[\"sex\"].value_counts())\n",
    "\n",
    "# Todo: map education and income to int\n"
   ]
  },
  {
   "attachments": {},
   "cell_type": "markdown",
   "metadata": {},
   "source": [
    "### Predict education level with essay text word counts"
   ]
  },
  {
   "cell_type": "code",
   "execution_count": null,
   "metadata": {},
   "outputs": [],
   "source": []
  },
  {
   "attachments": {},
   "cell_type": "markdown",
   "metadata": {},
   "source": [
    "## Regression Techniques"
   ]
  },
  {
   "cell_type": "markdown",
   "metadata": {},
   "source": [
    "### Predict income with length of essays and average word length"
   ]
  },
  {
   "cell_type": "code",
   "execution_count": 239,
   "metadata": {},
   "outputs": [
    {
     "name": "stdout",
     "output_type": "stream",
     "text": [
      "20033\n",
      "20033      48442\n",
      "20000       2952\n",
      "100000      1621\n",
      "80000       1111\n",
      "30000       1048\n",
      "40000       1005\n",
      "50000        975\n",
      "60000        736\n",
      "70000        707\n",
      "150000       631\n",
      "1000000      521\n",
      "250000       149\n",
      "500000        48\n",
      "Name: income, dtype: int64\n"
     ]
    },
    {
     "name": "stderr",
     "output_type": "stream",
     "text": [
      "/Users/yiyimeow/opt/anaconda3/lib/python3.9/site-packages/sklearn/neighbors/_classification.py:228: FutureWarning: Unlike other reduction functions (e.g. `skew`, `kurtosis`), the default behavior of `mode` typically preserves the axis it acts along. In SciPy 1.11.0, this behavior will change: the default value of `keepdims` will become False, the `axis` over which the statistic is taken will be eliminated, and the value None will no longer be accepted. Set `keepdims` to True or False to avoid this warning.\n",
      "  mode, _ = stats.mode(_y[neigh_ind, k], axis=1)\n",
      "/Users/yiyimeow/opt/anaconda3/lib/python3.9/site-packages/sklearn/neighbors/_classification.py:228: FutureWarning: Unlike other reduction functions (e.g. `skew`, `kurtosis`), the default behavior of `mode` typically preserves the axis it acts along. In SciPy 1.11.0, this behavior will change: the default value of `keepdims` will become False, the `axis` over which the statistic is taken will be eliminated, and the value None will no longer be accepted. Set `keepdims` to True or False to avoid this warning.\n",
      "  mode, _ = stats.mode(_y[neigh_ind, k], axis=1)\n"
     ]
    },
    {
     "name": "stdout",
     "output_type": "stream",
     "text": [
      "Train score:  0.8082617399282676\n"
     ]
    },
    {
     "name": "stderr",
     "output_type": "stream",
     "text": [
      "/Users/yiyimeow/opt/anaconda3/lib/python3.9/site-packages/sklearn/neighbors/_classification.py:228: FutureWarning: Unlike other reduction functions (e.g. `skew`, `kurtosis`), the default behavior of `mode` typically preserves the axis it acts along. In SciPy 1.11.0, this behavior will change: the default value of `keepdims` will become False, the `axis` over which the statistic is taken will be eliminated, and the value None will no longer be accepted. Set `keepdims` to True or False to avoid this warning.\n",
      "  mode, _ = stats.mode(_y[neigh_ind, k], axis=1)\n"
     ]
    },
    {
     "name": "stdout",
     "output_type": "stream",
     "text": [
      "Test score:  0.8074228523769809\n"
     ]
    },
    {
     "data": {
      "image/png": "[encoded data removed]",
      "text/plain": [
       "<Figure size 640x480 with 1 Axes>"
      ]
     },
     "metadata": {},
     "output_type": "display_data"
    }
   ],
   "source": [
    "features = df[[\"essay_len\",\"avg_word_length\"]]\n",
    "\n",
    "mean_income =int(df[\"income\"].mean())\n",
    "df[\"income\"] = df[\"income\"].replace(-1,mean_income)\n",
    "print(df[\"income\"].value_counts())\n",
    "\n",
    "X_train, X_test, y_train, y_test = train_test_split(features,df[\"income\"],train_size=0.8,test_size=0.2,random_state=6)\n",
    "clasifier = LinearRegression()\n",
    "classifier.fit(X_train,y_train)\n",
    "income_predict = classifier.predict(X_test)\n",
    "\n",
    "print(\"Train score: \", classifier.score(X_train,y_train))\n",
    "print(\"Test score: \", classifier.score(X_test,y_test))\n",
    "\n",
    "plt.scatter(y_test,income_predict)\n",
    "# plt.plot(range(20000),range(20000))\n",
    "\n",
    "plt.xlabel(\"Actual income: $Y_i$\")\n",
    "plt.ylabel(\"Predicted income: $\\hat{Y}_i$\")\n",
    "plt.title(\"Actual income vs Predicted income\")\n",
    "\n",
    "plt.show()\n"
   ]
  },
  {
   "cell_type": "code",
   "execution_count": null,
   "metadata": {},
   "outputs": [],
   "source": []
  }
 ],
 "metadata": {
  "kernelspec": {
   "display_name": "base",
   "language": "python",
   "name": "python3"
  },
  "language_info": {
   "codemirror_mode": {
    "name": "ipython",
    "version": 3
   },
   "file_extension": ".py",
   "mimetype": "text/x-python",
   "name": "python",
   "nbconvert_exporter": "python",
   "pygments_lexer": "ipython3",
   "version": "3.9.13"
  },
  "orig_nbformat": 4
 },
 "nbformat": 4,
 "nbformat_minor": 2
}
