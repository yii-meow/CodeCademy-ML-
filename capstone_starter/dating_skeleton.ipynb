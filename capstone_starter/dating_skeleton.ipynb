{
 "cells": [
  {
   "attachments": {},
   "cell_type": "markdown",
   "metadata": {},
   "source": [
    "# Dating Prediction"
   ]
  },
  {
   "attachments": {},
   "cell_type": "markdown",
   "metadata": {},
   "source": [
    "## Loading Data"
   ]
  },
  {
   "cell_type": "code",
   "execution_count": 184,
   "metadata": {},
   "outputs": [
    {
     "name": "stdout",
     "output_type": "stream",
     "text": [
      "   age       body_type               diet    drinks      drugs  \\\n",
      "0   22  a little extra  strictly anything  socially      never   \n",
      "1   35         average       mostly other     often  sometimes   \n",
      "2   38            thin           anything  socially        NaN   \n",
      "3   23            thin         vegetarian  socially        NaN   \n",
      "4   29        athletic                NaN  socially      never   \n",
      "\n",
      "                           education  \\\n",
      "0      working on college/university   \n",
      "1              working on space camp   \n",
      "2     graduated from masters program   \n",
      "3      working on college/university   \n",
      "4  graduated from college/university   \n",
      "\n",
      "                                              essay0  \\\n",
      "0  about me:<br />\\n<br />\\ni would love to think...   \n",
      "1  i am a chef: this is what that means.<br />\\n1...   \n",
      "2  i'm not ashamed of much, but writing public te...   \n",
      "3          i work in a library and go to school. . .   \n",
      "4  hey how's it going? currently vague on the pro...   \n",
      "\n",
      "                                              essay1  \\\n",
      "0  currently working as an international agent fo...   \n",
      "1  dedicating everyday to being an unbelievable b...   \n",
      "2  i make nerdy software for musicians, artists, ...   \n",
      "3          reading things written by old dead people   \n",
      "4                         work work work work + play   \n",
      "\n",
      "                                              essay2  \\\n",
      "0  making people laugh.<br />\\nranting about a go...   \n",
      "1  being silly. having ridiculous amonts of fun w...   \n",
      "2  improvising in different contexts. alternating...   \n",
      "3  playing synthesizers and organizing books acco...   \n",
      "4  creating imagery to look at:<br />\\nhttp://bag...   \n",
      "\n",
      "                                              essay3  ...  \\\n",
      "0  the way i look. i am a six foot half asian, ha...  ...   \n",
      "1                                                NaN  ...   \n",
      "2  my large jaw and large glasses are the physica...  ...   \n",
      "3                  socially awkward but i do my best  ...   \n",
      "4            i smile a lot and my inquisitive nature  ...   \n",
      "\n",
      "                          location  \\\n",
      "0  south san francisco, california   \n",
      "1              oakland, california   \n",
      "2        san francisco, california   \n",
      "3             berkeley, california   \n",
      "4        san francisco, california   \n",
      "\n",
      "                                      offspring orientation  \\\n",
      "0  doesn&rsquo;t have kids, but might want them    straight   \n",
      "1  doesn&rsquo;t have kids, but might want them    straight   \n",
      "2                                           NaN    straight   \n",
      "3                       doesn&rsquo;t want kids    straight   \n",
      "4                                           NaN    straight   \n",
      "\n",
      "                        pets                                  religion sex  \\\n",
      "0  likes dogs and likes cats     agnosticism and very serious about it   m   \n",
      "1  likes dogs and likes cats  agnosticism but not too serious about it   m   \n",
      "2                   has cats                                       NaN   m   \n",
      "3                 likes cats                                       NaN   m   \n",
      "4  likes dogs and likes cats                                       NaN   m   \n",
      "\n",
      "                                 sign     smokes  \\\n",
      "0                              gemini  sometimes   \n",
      "1                              cancer         no   \n",
      "2  pisces but it doesn&rsquo;t matter         no   \n",
      "3                              pisces         no   \n",
      "4                            aquarius         no   \n",
      "\n",
      "                                              speaks     status  \n",
      "0                                            english     single  \n",
      "1  english (fluently), spanish (poorly), french (...     single  \n",
      "2                               english, french, c++  available  \n",
      "3                           english, german (poorly)     single  \n",
      "4                                            english     single  \n",
      "\n",
      "[5 rows x 31 columns]\n",
      "Index(['age', 'body_type', 'diet', 'drinks', 'drugs', 'education', 'essay0',\n",
      "       'essay1', 'essay2', 'essay3', 'essay4', 'essay5', 'essay6', 'essay7',\n",
      "       'essay8', 'essay9', 'ethnicity', 'height', 'income', 'job',\n",
      "       'last_online', 'location', 'offspring', 'orientation', 'pets',\n",
      "       'religion', 'sex', 'sign', 'smokes', 'speaks', 'status'],\n",
      "      dtype='object')\n"
     ]
    }
   ],
   "source": [
    "import pandas as pd\n",
    "import numpy as np\n",
    "from matplotlib import pyplot as plt\n",
    "import re\n",
    "\n",
    "from sklearn import preprocessing\n",
    "from sklearn.model_selection import train_test_split\n",
    "from sklearn.neighbors import KNeighborsClassifier\n",
    "from sklearn.linear_model import LinearRegression\n",
    "\n",
    "df = pd.read_csv(\"profiles.csv\")\n",
    "\n",
    "print(df.head())\n",
    "print(df.columns)"
   ]
  },
  {
   "attachments": {},
   "cell_type": "markdown",
   "metadata": {},
   "source": [
    "Mapping value to int"
   ]
  },
  {
   "cell_type": "code",
   "execution_count": 185,
   "metadata": {},
   "outputs": [],
   "source": [
    "# Mapping str values to numerical\n",
    "df[\"drinks\"] = df[\"drinks\"].replace(np.nan,'not at all',regex=True)\n",
    "df[\"drinks_code\"] = df.drinks.map({\n",
    "    \"not at all\" : 0,\n",
    "    \"rarely\" : 1,\n",
    "    \"socially\" : 2,\n",
    "    \"often\" : 3,\n",
    "    \"very often\" : 4,\n",
    "    \"desperately\" : 5\n",
    "})\n",
    "\n",
    "df[\"smokes\"] = df[\"smokes\"].replace(np.nan,'no',regex=True)\n",
    "df[\"smokes_code\"] = df.smokes.map({\n",
    "    \"no\":0,\n",
    "    \"sometimes\":1,\n",
    "    \"when drinking\":2,\n",
    "    \"yes\":3,\n",
    "    \"trying to quit\":4\n",
    "})\n",
    "\n",
    "df[\"drugs\"] = df[\"drugs\"].replace(np.nan,'never',regex=True)\n",
    "df[\"drugs_code\"] = df.drugs.map({\n",
    "    \"never\":0,\n",
    "    \"sometimes\":1,\n",
    "    \"often\":2\n",
    "})"
   ]
  },
  {
   "attachments": {},
   "cell_type": "markdown",
   "metadata": {},
   "source": [
    "Mapping essays columns"
   ]
  },
  {
   "cell_type": "code",
   "execution_count": 186,
   "metadata": {},
   "outputs": [],
   "source": [
    "# Retrieve the essays cols\n",
    "essays_cols = [\"essay0\",\"essay1\",\"essay2\",\"essay3\",\"essay4\",\"essay5\",\n",
    "               \"essay6\",\"essay7\",\"essay8\",\"essay9\"]\n",
    "\n",
    "# Removing the NaNs\n",
    "all_essays = df[essays_cols].replace(np.nan,'',regex=True)\n",
    "\n",
    "# Combining the essays\n",
    "all_essays = all_essays.apply(lambda x:' '.join(x),axis=1)\n",
    "\n",
    "# Total length of the ssays\n",
    "df[\"essay_len\"] = all_essays.apply(lambda x : len(x))\n",
    "\n",
    "# Average length for essays\n",
    "df[\"avg_word_length\"] = df[\"essay_len\"]/len(essays_cols)\n",
    "\n",
    "# Frequency of the words 'I' or 'me\"\n",
    "df[\"common_words\"] = all_essays.str.count(r'\\b(I|me)\\b', flags=re.IGNORECASE)"
   ]
  },
  {
   "attachments": {},
   "cell_type": "markdown",
   "metadata": {},
   "source": [
    "### Normalize Data"
   ]
  },
  {
   "cell_type": "code",
   "execution_count": 187,
   "metadata": {},
   "outputs": [],
   "source": [
    "feature_data = df[[\"smokes_code\",\"drinks_code\",\"drugs_code\",\n",
    "                   \"essay_len\",\"avg_word_length\"]]\n",
    "\n",
    "x = feature_data.values\n",
    "min_max_scaler = preprocessing.MinMaxScaler()\n",
    "x_scaled = min_max_scaler.fit_transform(x)"
   ]
  },
  {
   "attachments": {},
   "cell_type": "markdown",
   "metadata": {},
   "source": [
    "### Predict Zodiac Signs"
   ]
  },
  {
   "cell_type": "code",
   "execution_count": 188,
   "metadata": {},
   "outputs": [],
   "source": [
    "df[\"sign\"] = df[\"sign\"].replace(np.nan,'',regex=True)\n",
    "\n",
    "# Only take the first word, which is the zodiac sign only\n",
    "df[\"sign\"] = (df[\"sign\"].apply(lambda x: x.split(\" \")[0]))\n",
    "\n",
    "# X_train, X_test, y_train, y_test = train_test_split(feature_data,df[\"sign\"],test_size=0.2,random_state=100)\n",
    "\n",
    "# accuracies = []\n",
    "\n",
    "# for k in range(1,100):\n",
    "#     classifier = KNeighborsClassifier(n_neighbors=k)\n",
    "#     classifier.fit(X_train,y_train)\n",
    "#     accuracies.append(classifier.score(X_test,y_test))\n",
    "\n",
    "# k_list = range(1,100)\n",
    "\n",
    "# plt.plot(k_list,accuracies)\n",
    "# plt.title(\"K-Neighbors Predict Zodiac Sign on smokes_code, drinks_code, drugs_code, essay_len, avg_word_length\")\n",
    "# plt.xlabel(\"k\")\n",
    "# plt.ylabel(\"Accuracy\")\n",
    "\n",
    "# plt.savefig(\"k_accuracy.png\")\n",
    "# plt.show()"
   ]
  },
  {
   "attachments": {},
   "cell_type": "markdown",
   "metadata": {},
   "source": [
    "## Classification Techniques"
   ]
  },
  {
   "attachments": {},
   "cell_type": "markdown",
   "metadata": {},
   "source": [
    "### Predict Sex with education level and income using K Nearest Neighbors"
   ]
  },
  {
   "cell_type": "code",
   "execution_count": 189,
   "metadata": {},
   "outputs": [
    {
     "data": {
      "image/png": "[encoded data removed]",
      "text/plain": [
       "<Figure size 432x288 with 1 Axes>"
      ]
     },
     "metadata": {
      "needs_background": "light"
     },
     "output_type": "display_data"
    }
   ],
   "source": [
    "# Male = 0 , Female = 1\n",
    "df[\"sex_code\"] = df.sex.map({\n",
    "    \"m\": 0,\n",
    "    \"f\": 1\n",
    "})\n",
    "\n",
    "df[\"sex_code\"].head()\n",
    "\n",
    "# Remove rows with missing income\n",
    "df = df[df[\"income\"] != -1]\n",
    "\n",
    "# Change the education category string to int type\n",
    "label_encoder = preprocessing.LabelEncoder()\n",
    "df[\"education_code\"] = label_encoder.fit_transform(df[\"education\"])\n",
    "\n",
    "X = df[[\"income\", \"education_code\"]]\n",
    "y = df[\"sex_code\"]\n",
    "\n",
    "X_train, X_test, y_train, y_test = train_test_split(\n",
    "    X, y, test_size=0.2, random_state=5)\n",
    "\n",
    "accuracies = []\n",
    "\n",
    "for k in range(1, 100):\n",
    "    classifier = KNeighborsClassifier(n_neighbors=k)\n",
    "    classifier.fit(X_train, y_train)\n",
    "    classifier.score(X_test, y_test)\n",
    "    accuracies.append(classifier.score(X_test, y_test))\n",
    "\n",
    "k_list = range(1, 100)\n",
    "\n",
    "plt.plot(k_list, accuracies)\n",
    "plt.title(\"K-Neighbors - Predict sex on income, and education\")\n",
    "plt.xlabel(\"k\")\n",
    "plt.ylabel(\"Accuracy\")\n",
    "\n",
    "plt.savefig(\"sex_income-education.png\")\n",
    "plt.show()\n"
   ]
  },
  {
   "attachments": {},
   "cell_type": "markdown",
   "metadata": {},
   "source": [
    "### Predict Sex with education level and income using Decision Trees"
   ]
  },
  {
   "cell_type": "code",
   "execution_count": 190,
   "metadata": {},
   "outputs": [
    {
     "name": "stdout",
     "output_type": "stream",
     "text": [
      "graduated from college/university    4213\n",
      "graduated from masters program       1509\n",
      "working on college/university        1387\n",
      "graduated from high school            563\n",
      "graduated from two-year college       511\n",
      "working on two-year college           392\n",
      "dropped out of college/university     360\n",
      "working on masters program            253\n",
      "graduated from ph.d program           219\n",
      "working on ph.d program               187\n",
      "graduated from space camp             180\n",
      "dropped out of space camp             156\n",
      "graduated from law school             152\n",
      "college/university                    133\n",
      "working on space camp                 115\n",
      "dropped out of two-year college        92\n",
      "two-year college                       57\n",
      "dropped out of high school             48\n",
      "graduated from med school              42\n",
      "dropped out of masters program         34\n",
      "high school                            33\n",
      "working on med school                  32\n",
      "dropped out of ph.d program            26\n",
      "working on high school                 24\n",
      "working on law school                  24\n",
      "space camp                             13\n",
      "masters program                        12\n",
      "ph.d program                            5\n",
      "dropped out of law school               5\n",
      "dropped out of med school               4\n",
      "law school                              2\n",
      "Name: education, dtype: int64\n"
     ]
    },
    {
     "data": {
      "image/png": "[encoded data removed]",
      "text/plain": [
       "<Figure size 432x288 with 1 Axes>"
      ]
     },
     "metadata": {
      "needs_background": "light"
     },
     "output_type": "display_data"
    }
   ],
   "source": []
  },
  {
   "attachments": {},
   "cell_type": "markdown",
   "metadata": {},
   "source": [
    "### Predict education level with essay text word counts"
   ]
  },
  {
   "cell_type": "code",
   "execution_count": null,
   "metadata": {},
   "outputs": [],
   "source": []
  },
  {
   "attachments": {},
   "cell_type": "markdown",
   "metadata": {},
   "source": [
    "## Regression Techniques"
   ]
  },
  {
   "cell_type": "markdown",
   "metadata": {},
   "source": [
    "### Predict income with length of essays and average word length"
   ]
  },
  {
   "cell_type": "code",
   "execution_count": 191,
   "metadata": {},
   "outputs": [
    {
     "name": "stdout",
     "output_type": "stream",
     "text": [
      "Train score:  2.251344143233691e-05\n",
      "Test score:  -0.0015134372825655884\n"
     ]
    },
    {
     "data": {
      "image/png": "[encoded data removed]",
      "text/plain": [
       "<Figure size 432x288 with 1 Axes>"
      ]
     },
     "metadata": {
      "needs_background": "light"
     },
     "output_type": "display_data"
    }
   ],
   "source": [
    "features = df[[\"essay_len\",\"avg_word_length\"]]\n",
    "\n",
    "X_train, X_test, y_train, y_test = train_test_split(features,df[\"income\"],train_size=0.8,test_size=0.2,random_state=6)\n",
    "classifier = LinearRegression()\n",
    "classifier.fit(X_train,y_train)\n",
    "income_predict = classifier.predict(X_test)\n",
    "\n",
    "print(\"Train score: \", classifier.score(X_train,y_train))\n",
    "print(\"Test score: \", classifier.score(X_test,y_test))\n",
    "\n",
    "plt.scatter(y_test,income_predict)\n",
    "# plt.plot(range(20000),range(20000))\n",
    "\n",
    "plt.xlabel(\"Actual income: $Y_i$\")\n",
    "plt.ylabel(\"Predicted income: $\\hat{Y}_i$\")\n",
    "plt.title(\"Actual income vs Predicted income\")\n",
    "\n",
    "plt.show()\n"
   ]
  },
  {
   "cell_type": "code",
   "execution_count": null,
   "metadata": {},
   "outputs": [],
   "source": []
  }
 ],
 "metadata": {
  "kernelspec": {
   "display_name": "base",
   "language": "python",
   "name": "python3"
  },
  "language_info": {
   "codemirror_mode": {
    "name": "ipython",
    "version": 3
   },
   "file_extension": ".py",
   "mimetype": "text/x-python",
   "name": "python",
   "nbconvert_exporter": "python",
   "pygments_lexer": "ipython3",
   "version": "3.9.12"
  },
  "orig_nbformat": 4
 },
 "nbformat": 4,
 "nbformat_minor": 2
}
