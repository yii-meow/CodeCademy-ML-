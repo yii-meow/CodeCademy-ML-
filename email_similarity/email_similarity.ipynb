{
 "cells": [
  {
   "cell_type": "code",
   "execution_count": 1,
   "metadata": {},
   "outputs": [
    {
     "name": "stdout",
     "output_type": "stream",
     "text": [
      "0.9748110831234257\n"
     ]
    }
   ],
   "source": [
    "from sklearn.datasets import fetch_20newsgroups\n",
    "from sklearn.naive_bayes import MultinomialNB\n",
    "from sklearn.feature_extraction.text import CountVectorizer\n",
    "\n",
    "categories = ['rec.autos','rec.motorcycles']\n",
    "\n",
    "train_emails = fetch_20newsgroups(subset='train',shuffle=True,random_state=108,categories=categories)\n",
    "\n",
    "test_emails = fetch_20newsgroups(subset='test',shuffle=True,random_state=108,categories=categories)\n",
    "\n",
    "counter = CountVectorizer()\n",
    "\n",
    "counter.fit(test_emails.data + train_emails.data)\n",
    "\n",
    "train_counts = counter.transform(train_emails.data)\n",
    "\n",
    "test_counts = counter.transform(test_emails.data)\n",
    "\n",
    "classifier = MultinomialNB()\n",
    "\n",
    "classifier.fit(train_counts,train_emails.target)\n",
    "\n",
    "print(classifier.score(test_counts,test_emails.target))"
   ]
  },
  {
   "cell_type": "code",
   "execution_count": null,
   "metadata": {},
   "outputs": [],
   "source": []
  }
 ],
 "metadata": {
  "kernelspec": {
   "display_name": "base",
   "language": "python",
   "name": "python3"
  },
  "language_info": {
   "codemirror_mode": {
    "name": "ipython",
    "version": 3
   },
   "file_extension": ".py",
   "mimetype": "text/x-python",
   "name": "python",
   "nbconvert_exporter": "python",
   "pygments_lexer": "ipython3",
   "version": "3.9.13"
  },
  "orig_nbformat": 4
 },
 "nbformat": 4,
 "nbformat_minor": 2
}
