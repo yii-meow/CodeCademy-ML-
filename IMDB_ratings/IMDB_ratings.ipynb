{
 "cells": [
  {
   "cell_type": "code",
   "execution_count": null,
   "metadata": {},
   "outputs": [],
   "source": [
    "from movies import movie_dataset, movie_ratings\n",
    "from sklearn.neighbors import KNeighborsRegressor\n",
    "\n",
    "regressor = KNeighborsRegressor(n_neighbors=5,weights=\"distance\")\n",
    "regressor.fit(movie_dataset,movie_ratings)\n",
    "\n",
    "points = [\n",
    "  [0.016, 0.300, 1.022],\n",
    "  [0.0004092981, 0.283, 1.0112],\n",
    "  [0.00687649, 0.235, 1.0112]\n",
    "]\n",
    "\n",
    "guess = regressor.predict(points)\n",
    "print(guess)"
   ]
  }
 ],
 "metadata": {
  "language_info": {
   "name": "python"
  },
  "orig_nbformat": 4
 },
 "nbformat": 4,
 "nbformat_minor": 2
}
