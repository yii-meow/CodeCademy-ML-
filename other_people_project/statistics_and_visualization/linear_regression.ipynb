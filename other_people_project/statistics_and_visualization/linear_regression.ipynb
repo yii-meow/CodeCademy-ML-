{
 "cells": [
  {
   "cell_type": "markdown",
   "metadata": {},
   "source": [
    "# Project: Linear Regression\n",
    "\n",
    "Reggie is a scientist who has been hired by the local fast food joint to build their newest ball pit in the play area. As such, he is working on researching the bounciness of different balls so as to optimize the pit. He is running an experiment to bounce different sizes of bouncy balls, and then fitting lines to the data points he records. My goal here is to implement a version of linear regression in Python.\n",
    "\n",
    "_Linear Regression_ is when one has a group of points on a graph, and one finds a `line that approximately resembles that group of points`. A good Linear Regression algorithm minimizes the _error_, or the distance from each point to the line. A line with the least error is the line that fits the data the best. One calls this a line of _best fit_.\n",
    "\n",
    "Modules to be used: loops, lists, and arithmetic to create a function that will find a line of best fit when given a set of data.\n"
   ]
  },
  {
   "cell_type": "markdown",
   "metadata": {},
   "source": [
    "## Calculating Error"
   ]
  },
  {
   "cell_type": "markdown",
   "metadata": {},
   "source": [
    "\n",
    "The formula that produces the `line` is:\n",
    "```\n",
    "y = m*x + b\n",
    "```\n",
    "where `m` is the slope of the line and `b` is the intercept, where the line crosses the y-axis.\n",
    "\n",
    "Below I am creating a function `get_y()` that takes in `m`, `b`, and `x` values and returns what the `y` value would be for the given `x`:"
   ]
  },
  {
   "cell_type": "code",
   "execution_count": 50,
   "metadata": {},
   "outputs": [
    {
     "name": "stdout",
     "output_type": "stream",
     "text": [
      "7\n",
      "25\n"
     ]
    }
   ],
   "source": [
    "def get_y(m, b, x):\n",
    "  y = m * x + b\n",
    "  return y\n",
    "\n",
    "# Test the function\n",
    "print(get_y(1, 0, 7))\n",
    "print(get_y(5, 10, 3))\n",
    "\n",
    "# Test is successful, see the output below:"
   ]
  },
  {
   "cell_type": "markdown",
   "metadata": {},
   "source": [
    "\n",
    "Reggie wants to try a bunch of different `m` values and `b` values and see which line produces the least error. \n",
    "\n",
    "To calculate error between a point and a line I will create a function `calculate_error()`, which takes in `m`, `b`, `x` and `y` values (`x` and `y` under the name `point`) and gives back the distance between the line and the point.\n",
    "\n",
    "The distance represents the `error` between the line produced by formula `y = m*x + b` and the `point` given.\n"
   ]
  },
  {
   "cell_type": "code",
   "execution_count": 9,
   "metadata": {},
   "outputs": [],
   "source": [
    "def calculate_error(m, b, point):\n",
    "    x_point, y_point = point\n",
    "    difference = get_y(m, b, x_point) - y_point\n",
    "    return abs(difference)"
   ]
  },
  {
   "cell_type": "markdown",
   "metadata": {},
   "source": [
    "Test this function:"
   ]
  },
  {
   "cell_type": "code",
   "execution_count": 56,
   "metadata": {},
   "outputs": [
    {
     "name": "stdout",
     "output_type": "stream",
     "text": [
      "0\n",
      "1\n",
      "1\n",
      "5\n"
     ]
    }
   ],
   "source": [
    "# This is a line that looks like y = x, so (3, 3) should lie on it. thus, error should be 0:\n",
    "print(calculate_error(1, 0, (3, 3)))\n",
    "\n",
    "# The point (3, 4) should be 1 unit away from the line y = x:\n",
    "print(calculate_error(1, 0, (3, 4)))\n",
    "\n",
    "# The point (3, 3) should be 1 unit away from the line y = x - 1:\n",
    "print(calculate_error(1, -1, (3, 3)))\n",
    "\n",
    "# The point (3, 3) should be 5 units away from the line y = -x + 1:\n",
    "print(calculate_error(-1, 1, (3, 3)))\n",
    "\n",
    "# Test is successful, see the output below:"
   ]
  },
  {
   "cell_type": "markdown",
   "metadata": {
    "collapsed": true
   },
   "source": [
    "Reggie's datasets will be sets of points. For example, he ran an experiment comparing the width of bouncy balls to how high they bounce:\n"
   ]
  },
  {
   "cell_type": "code",
   "execution_count": 42,
   "metadata": {},
   "outputs": [],
   "source": [
    "datapoints = [(1, 2), (2, 0), (3, 4), (4, 4), (5, 3)]"
   ]
  },
  {
   "cell_type": "markdown",
   "metadata": {
    "collapsed": true
   },
   "source": [
    "The first datapoint, `(1, 2)`, means that his 1cm bouncy ball bounced 2 meters. The 4cm bouncy ball bounced 4 meters.\n",
    "\n",
    "As I try to fit a line to this data, I will need a function called `calculate_all_error`, which takes `m` and `b` that describe a line, and `points` (a set of data like the example datapoints above).\n",
    "\n",
    "`calculate_all_error` should iterate through each `point` in `points` and calculate the error from the given point to the line (using `calculate_error`). Doing so it should also find a sum of occuring errors in `total_of_the_errors` and then return it after all points have been checked.\n"
   ]
  },
  {
   "cell_type": "code",
   "execution_count": 13,
   "metadata": {},
   "outputs": [],
   "source": [
    "def calculate_all_error(m, b, points):\n",
    "    total_of_errors = 0\n",
    "    for point in points:\n",
    "        total_of_errors += calculate_error(m, b, point)\n",
    "    return total_of_errors\n",
    "        "
   ]
  },
  {
   "cell_type": "markdown",
   "metadata": {},
   "source": [
    "Test this function:"
   ]
  },
  {
   "cell_type": "code",
   "execution_count": 57,
   "metadata": {},
   "outputs": [
    {
     "name": "stdout",
     "output_type": "stream",
     "text": [
      "0\n",
      "4\n",
      "4\n",
      "18\n"
     ]
    }
   ],
   "source": [
    "#every point in this dataset lies upon y=x, so the total error should be zero:\n",
    "datapoints = [(1, 1), (3, 3), (5, 5), (-1, -1)]\n",
    "print(calculate_all_error(1, 0, datapoints))\n",
    "\n",
    "#every point in this dataset is 1 unit away from y = x + 1, so the total error should be 4:\n",
    "datapoints = [(1, 1), (3, 3), (5, 5), (-1, -1)]\n",
    "print(calculate_all_error(1, 1, datapoints))\n",
    "\n",
    "#every point in this dataset is 1 unit away from y = x - 1, so the total error should be 4:\n",
    "datapoints = [(1, 1), (3, 3), (5, 5), (-1, -1)]\n",
    "print(calculate_all_error(1, -1, datapoints))\n",
    "\n",
    "\n",
    "#the points in this dataset are 1, 5, 9, and 3 units away from y = -x + 1, respectively, so total error should be\n",
    "# 1 + 5 + 9 + 3 = 18\n",
    "datapoints = [(1, 1), (3, 3), (5, 5), (-1, -1)]\n",
    "print(calculate_all_error(-1, 1, datapoints))\n",
    "\n",
    "# Test is successful, see the output below:"
   ]
  },
  {
   "cell_type": "markdown",
   "metadata": {},
   "source": [
    "Now I have a function that can take in a line and Reggie's data and return how much error that line produces when I try to fit it to the data.\n",
    "\n",
    "The next step is to find the `m` and `b` that minimizes this error, and thus fits the data best.\n"
   ]
  },
  {
   "cell_type": "markdown",
   "metadata": {},
   "source": [
    "## Finging Best Slope and Intercept\n"
   ]
  },
  {
   "cell_type": "markdown",
   "metadata": {},
   "source": [
    "The way Reggie wants to find a line of best fit is by trial and error. He wants to try a bunch of different slopes (`m` values) and a bunch of different intercepts (`b` values) and see which one produces the smallest error value for his dataset.\n",
    "\n",
    "To accomplish this I will create a list of possible `m` values to try. It will go from -10 to 10 inclusive, in increments of 0.1.\n"
   ]
  },
  {
   "cell_type": "code",
   "execution_count": 24,
   "metadata": {},
   "outputs": [],
   "source": [
    "possible_ms = [m / 10 for m in range(-100, 101, 1)]"
   ]
  },
  {
   "cell_type": "markdown",
   "metadata": {},
   "source": [
    "And also a list of `possible_bs` to check. That will be the values from -20 to 20 inclusive, in steps of 0.1."
   ]
  },
  {
   "cell_type": "code",
   "execution_count": 36,
   "metadata": {},
   "outputs": [],
   "source": [
    "possible_bs = [b / 10 for b in range(-200, 201, 1)]\n"
   ]
  },
  {
   "cell_type": "markdown",
   "metadata": {},
   "source": [
    "Now I am going to find the smallest error. First, I will make every possible `y = m*x + b` line by pairing all of the possible `m`s with all of the possible `b`s. Then, I will see which `y = m*x + b` line produces the smallest total error with the set of data stored in `datapoint`.\n"
   ]
  },
  {
   "cell_type": "code",
   "execution_count": 47,
   "metadata": {},
   "outputs": [
    {
     "name": "stdout",
     "output_type": "stream",
     "text": [
      "(0.4, 1.6, 5.0)\n"
     ]
    }
   ],
   "source": [
    "def calculate_m_b(points):\n",
    "    smallest_error = float('inf')\n",
    "    best_m = 0\n",
    "    best_b = 0\n",
    "\n",
    "    for m in possible_ms:\n",
    "        for b in possible_bs:\n",
    "            errors_sum = calculate_all_error(m, b, points)\n",
    "            if errors_sum < smallest_error:\n",
    "                best_m = m\n",
    "                best_b = b\n",
    "                smallest_error = errors_sum\n",
    "        \n",
    "    return best_m, best_b, smallest_error\n",
    "\n",
    "# Test\n",
    "print(calculate_m_b(datapoints))\n",
    "\n",
    "# Test is successful, see the output below:"
   ]
  },
  {
   "cell_type": "markdown",
   "metadata": {},
   "source": [
    "What does this model predict?\n",
    "\n",
    "For the given set of observations on the bouncy balls, the line that fits the data best has an `m` of 0.4 and a `b` of 1.6. That is not the only answer though because what's important in the latest calculation is the value of the total error. Considering it is a sum of several errors the values of `m` and `b` could be different, 0.3 and 1.7, for instance. \n",
    "\n",
    "```\n",
    "y = 0.3x + 1.7\n",
    "```\n",
    "\n",
    "This line still produces a total error of 5.\n",
    "\n",
    "Using these `m`s and this `b`s, though one can predict the bounce height (`y` value) of a ball with a width of 6cm (`x` value)\n",
    "In other words, what is the output of `get_y()` (the main formula of Linear Regression at the beggining of this project) when we call it with:\n",
    "* m = 0.3\n",
    "* b = 1.7\n",
    "* x = 6"
   ]
  },
  {
   "cell_type": "code",
   "execution_count": 58,
   "metadata": {},
   "outputs": [
    {
     "data": {
      "text/plain": [
       "3.5"
      ]
     },
     "execution_count": 58,
     "metadata": {},
     "output_type": "execute_result"
    }
   ],
   "source": [
    "m = 0.3\n",
    "b = 1.7\n",
    "x = 6\n",
    "\n",
    "get_y(m, b, x)"
   ]
  },
  {
   "cell_type": "markdown",
   "metadata": {},
   "source": [
    "## Conclusion\n",
    "\n",
    "Our model predicts that the 6cm ball will bounce 3.5m. Now, Reggie can use this model to predict the bounce of all kinds of sizes of balls he may choose to include in the ball pit!"
   ]
  }
 ],
 "metadata": {
  "kernelspec": {
   "display_name": "Python 3",
   "language": "python",
   "name": "python3"
  },
  "language_info": {
   "codemirror_mode": {
    "name": "ipython",
    "version": 3
   },
   "file_extension": ".py",
   "mimetype": "text/x-python",
   "name": "python",
   "nbconvert_exporter": "python",
   "pygments_lexer": "ipython3",
   "version": "3.8.8"
  }
 },
 "nbformat": 4,
 "nbformat_minor": 2
}
